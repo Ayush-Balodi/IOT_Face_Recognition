{
 "cells": [
  {
   "cell_type": "code",
   "execution_count": 10,
   "id": "234a9516",
   "metadata": {},
   "outputs": [],
   "source": [
    "import numpy as np\n",
    "import cv2\n",
    "import os\n",
    "import matplotlib\n",
    "from matplotlib import pyplot as plt\n",
    "%matplotlib inline"
   ]
  },
  {
   "cell_type": "code",
   "execution_count": 11,
   "id": "76bfef10",
   "metadata": {},
   "outputs": [],
   "source": [
    "def identify(image_path):\n",
    "    \n",
    "    frame = cv2.imread(image_path)\n",
    "    face_cascade = cv2.CascadeClassifier(cv2.data.haarcascades + 'haarcascade_frontalface_default.xml')\n",
    "    eye_cascade = cv2.CascadeClassifier(cv2.data.haarcascades + 'haarcascade_eye.xml')\n",
    "    gray = cv2.cvtColor(frame, cv2.COLOR_BGR2GRAY)\n",
    "    faces = face_cascade.detectMultiScale(gray, scaleFactor=1.3, minNeighbors=5)\n",
    "\n",
    "    for i, ( x, y, w, h) in enumerate(faces):\n",
    "        roi_gray = gray[y:y+h, x:x+w] \n",
    "        roi_color = frame[y:y+h, x:x+w]\n",
    "\n",
    "        eyes = eye_cascade.detectMultiScale(roi_gray)\n",
    "\n",
    "        if len(eyes) >= 2:\n",
    "            return roi_color"
   ]
  },
  {
   "cell_type": "code",
   "execution_count": 12,
   "id": "59c5eb0d",
   "metadata": {},
   "outputs": [],
   "source": [
    "path_to_data=\"./dataset/\"\n",
    "path_to_cr_data=\"./dataset/cropped/\""
   ]
  },
  {
   "cell_type": "code",
   "execution_count": 13,
   "id": "2c70551d",
   "metadata": {},
   "outputs": [],
   "source": [
    "img_dirs =[]\n",
    "for entry in os.scandir(path_to_data):\n",
    "    if entry.is_dir():\n",
    "        img_dirs.append(entry.path)"
   ]
  },
  {
   "cell_type": "code",
   "execution_count": 14,
   "id": "91539724",
   "metadata": {},
   "outputs": [
    {
     "data": {
      "text/plain": [
       "['./dataset/cropped',\n",
       " './dataset/Donald Trump',\n",
       " './dataset/Kane Williamson',\n",
       " './dataset/Kobe Bryant',\n",
       " './dataset/Maria Sharapova',\n",
       " './dataset/Narendra Modi',\n",
       " './dataset/Ronaldo',\n",
       " './dataset/Virat Kohli']"
      ]
     },
     "execution_count": 14,
     "metadata": {},
     "output_type": "execute_result"
    }
   ],
   "source": [
    "img_dirs"
   ]
  },
  {
   "cell_type": "code",
   "execution_count": 15,
   "id": "8749204a",
   "metadata": {},
   "outputs": [],
   "source": [
    "import shutil\n",
    "if os.path.exists(path_to_cr_data):\n",
    "    shutil.rmtree(path_to_cr_data)\n",
    "os.mkdir(path_to_cr_data)"
   ]
  },
  {
   "cell_type": "code",
   "execution_count": 16,
   "id": "1280570a",
   "metadata": {},
   "outputs": [
    {
     "name": "stdout",
     "output_type": "stream",
     "text": [
      "cropped\n",
      "Donald Trump\n",
      "Generating cropped images in folder:  ./dataset/cropped/Donald Trump\n",
      "Kane Williamson\n",
      "Generating cropped images in folder:  ./dataset/cropped/Kane Williamson\n",
      "Kobe Bryant\n",
      "Generating cropped images in folder:  ./dataset/cropped/Kobe Bryant\n",
      "Maria Sharapova\n",
      "Generating cropped images in folder:  ./dataset/cropped/Maria Sharapova\n",
      "Narendra Modi\n",
      "Generating cropped images in folder:  ./dataset/cropped/Narendra Modi\n",
      "Ronaldo\n",
      "Generating cropped images in folder:  ./dataset/cropped/Ronaldo\n",
      "Virat Kohli\n",
      "Generating cropped images in folder:  ./dataset/cropped/Virat Kohli\n"
     ]
    }
   ],
   "source": [
    "cropped_image_dirs = []\n",
    "celebrity_file_names_dict = {}\n",
    "\n",
    "for img_dir in img_dirs:\n",
    "    count = 1\n",
    "    celebrity_name = img_dir.split('/')[-1]\n",
    "    print(celebrity_name)\n",
    "    \n",
    "    celebrity_file_names_dict[celebrity_name] = []\n",
    "    \n",
    "    for entry in os.scandir(img_dir):\n",
    "        roi_color = identify(entry.path)\n",
    "        if roi_color is not None:\n",
    "            cropped_folder = path_to_cr_data + celebrity_name\n",
    "            if not os.path.exists(cropped_folder):\n",
    "                os.makedirs(cropped_folder)\n",
    "                cropped_image_dirs.append(cropped_folder)\n",
    "                print(\"Generating cropped images in folder: \",cropped_folder)\n",
    "                \n",
    "            cropped_file_name = celebrity_name + str(count) + \".png\"\n",
    "            cropped_file_path = cropped_folder + \"/\" + cropped_file_name \n",
    "            \n",
    "            cv2.imwrite(cropped_file_path, roi_color)\n",
    "            celebrity_file_names_dict[celebrity_name].append(cropped_file_path)\n",
    "            count += 1    "
   ]
  },
  {
   "cell_type": "code",
   "execution_count": 32,
   "id": "326130d5",
   "metadata": {},
   "outputs": [],
   "source": [
    "import pywt\n",
    "\n",
    "def w2d(img, mode='haar', level=1):\n",
    "    imArray = img\n",
    "    #Datatype conversions\n",
    "    #convert to grayscale\n",
    "    imArray = cv2.cvtColor( imArray,cv2.COLOR_RGB2GRAY )\n",
    "    #convert to float\n",
    "    imArray =  np.float32(imArray)   \n",
    "    imArray /= 255;\n",
    "    # compute coefficients \n",
    "    coeffs=pywt.wavedec2(imArray, mode, level=level)\n",
    "\n",
    "    #Process Coefficients\n",
    "    coeffs_H=list(coeffs)  \n",
    "    coeffs_H[0] *= 0;  \n",
    "\n",
    "    # reconstruction\n",
    "    imArray_H=pywt.waverec2(coeffs_H, mode);\n",
    "    imArray_H *= 255;\n",
    "    imArray_H =  np.uint8(imArray_H)\n",
    "\n",
    "    return imArray_H"
   ]
  },
  {
   "cell_type": "code",
   "execution_count": 26,
   "id": "4611ad0a",
   "metadata": {},
   "outputs": [
    {
     "data": {
      "text/plain": [
       "{'Donald Trump': ['./dataset/cropped/Donald Trump\\\\Donald Trump1.png',\n",
       "  './dataset/cropped/Donald Trump\\\\Donald Trump2.png'],\n",
       " 'Kane Williamson': ['./dataset/cropped/Kane Williamson\\\\Kane Williamson10.png',\n",
       "  './dataset/cropped/Kane Williamson\\\\Kane Williamson2.png',\n",
       "  './dataset/cropped/Kane Williamson\\\\Kane Williamson3.png',\n",
       "  './dataset/cropped/Kane Williamson\\\\Kane Williamson4.png',\n",
       "  './dataset/cropped/Kane Williamson\\\\Kane Williamson7.png',\n",
       "  './dataset/cropped/Kane Williamson\\\\Kane Williamson8.png'],\n",
       " 'Kobe Bryant': ['./dataset/cropped/Kobe Bryant\\\\Kobe Bryant1.png',\n",
       "  './dataset/cropped/Kobe Bryant\\\\Kobe Bryant10.png',\n",
       "  './dataset/cropped/Kobe Bryant\\\\Kobe Bryant12.png',\n",
       "  './dataset/cropped/Kobe Bryant\\\\Kobe Bryant14.png',\n",
       "  './dataset/cropped/Kobe Bryant\\\\Kobe Bryant16.png',\n",
       "  './dataset/cropped/Kobe Bryant\\\\Kobe Bryant17.png',\n",
       "  './dataset/cropped/Kobe Bryant\\\\Kobe Bryant3.png',\n",
       "  './dataset/cropped/Kobe Bryant\\\\Kobe Bryant5.png',\n",
       "  './dataset/cropped/Kobe Bryant\\\\Kobe Bryant6.png',\n",
       "  './dataset/cropped/Kobe Bryant\\\\Kobe Bryant7.png',\n",
       "  './dataset/cropped/Kobe Bryant\\\\Kobe Bryant9.png'],\n",
       " 'Maria Sharapova': ['./dataset/cropped/Maria Sharapova\\\\Maria Sharapova1.png',\n",
       "  './dataset/cropped/Maria Sharapova\\\\Maria Sharapova10.png',\n",
       "  './dataset/cropped/Maria Sharapova\\\\Maria Sharapova11.png',\n",
       "  './dataset/cropped/Maria Sharapova\\\\Maria Sharapova12.png',\n",
       "  './dataset/cropped/Maria Sharapova\\\\Maria Sharapova14.png',\n",
       "  './dataset/cropped/Maria Sharapova\\\\Maria Sharapova15.png',\n",
       "  './dataset/cropped/Maria Sharapova\\\\Maria Sharapova16.png',\n",
       "  './dataset/cropped/Maria Sharapova\\\\Maria Sharapova17.png',\n",
       "  './dataset/cropped/Maria Sharapova\\\\Maria Sharapova3.png',\n",
       "  './dataset/cropped/Maria Sharapova\\\\Maria Sharapova4.png',\n",
       "  './dataset/cropped/Maria Sharapova\\\\Maria Sharapova5.png',\n",
       "  './dataset/cropped/Maria Sharapova\\\\Maria Sharapova6.png',\n",
       "  './dataset/cropped/Maria Sharapova\\\\Maria Sharapova7.png',\n",
       "  './dataset/cropped/Maria Sharapova\\\\Maria Sharapova8.png',\n",
       "  './dataset/cropped/Maria Sharapova\\\\Maria Sharapova9.png'],\n",
       " 'Narendra Modi': ['./dataset/cropped/Narendra Modi\\\\Narendra Modi1.png',\n",
       "  './dataset/cropped/Narendra Modi\\\\Narendra Modi2.png',\n",
       "  './dataset/cropped/Narendra Modi\\\\Narendra Modi3.png',\n",
       "  './dataset/cropped/Narendra Modi\\\\Narendra Modi4.png',\n",
       "  './dataset/cropped/Narendra Modi\\\\Narendra Modi5.png'],\n",
       " 'Ronaldo': ['./dataset/cropped/Ronaldo\\\\Ronaldo1.png',\n",
       "  './dataset/cropped/Ronaldo\\\\Ronaldo10.png',\n",
       "  './dataset/cropped/Ronaldo\\\\Ronaldo11.png',\n",
       "  './dataset/cropped/Ronaldo\\\\Ronaldo12.png',\n",
       "  './dataset/cropped/Ronaldo\\\\Ronaldo13.png',\n",
       "  './dataset/cropped/Ronaldo\\\\Ronaldo14.png',\n",
       "  './dataset/cropped/Ronaldo\\\\Ronaldo15.png',\n",
       "  './dataset/cropped/Ronaldo\\\\Ronaldo16.png',\n",
       "  './dataset/cropped/Ronaldo\\\\Ronaldo17.png',\n",
       "  './dataset/cropped/Ronaldo\\\\Ronaldo19.png',\n",
       "  './dataset/cropped/Ronaldo\\\\Ronaldo2.png',\n",
       "  './dataset/cropped/Ronaldo\\\\Ronaldo20.png',\n",
       "  './dataset/cropped/Ronaldo\\\\Ronaldo21.png',\n",
       "  './dataset/cropped/Ronaldo\\\\Ronaldo22.png',\n",
       "  './dataset/cropped/Ronaldo\\\\Ronaldo23.png',\n",
       "  './dataset/cropped/Ronaldo\\\\Ronaldo25.png',\n",
       "  './dataset/cropped/Ronaldo\\\\Ronaldo26.png',\n",
       "  './dataset/cropped/Ronaldo\\\\Ronaldo27.png',\n",
       "  './dataset/cropped/Ronaldo\\\\Ronaldo28.png',\n",
       "  './dataset/cropped/Ronaldo\\\\Ronaldo29.png',\n",
       "  './dataset/cropped/Ronaldo\\\\Ronaldo3.png',\n",
       "  './dataset/cropped/Ronaldo\\\\Ronaldo30.png',\n",
       "  './dataset/cropped/Ronaldo\\\\Ronaldo31.png',\n",
       "  './dataset/cropped/Ronaldo\\\\Ronaldo33.png',\n",
       "  './dataset/cropped/Ronaldo\\\\Ronaldo4.png',\n",
       "  './dataset/cropped/Ronaldo\\\\Ronaldo5.png',\n",
       "  './dataset/cropped/Ronaldo\\\\Ronaldo6.png',\n",
       "  './dataset/cropped/Ronaldo\\\\Ronaldo7.png',\n",
       "  './dataset/cropped/Ronaldo\\\\Ronaldo8.png',\n",
       "  './dataset/cropped/Ronaldo\\\\Ronaldo9.png'],\n",
       " 'Virat Kohli': ['./dataset/cropped/Virat Kohli\\\\Virat Kohli1.png',\n",
       "  './dataset/cropped/Virat Kohli\\\\Virat Kohli2.png',\n",
       "  './dataset/cropped/Virat Kohli\\\\Virat Kohli3.png',\n",
       "  './dataset/cropped/Virat Kohli\\\\Virat Kohli4.png',\n",
       "  './dataset/cropped/Virat Kohli\\\\Virat Kohli5.png',\n",
       "  './dataset/cropped/Virat Kohli\\\\Virat Kohli6.png',\n",
       "  './dataset/cropped/Virat Kohli\\\\Virat Kohli7.png',\n",
       "  './dataset/cropped/Virat Kohli\\\\Virat Kohli8.png']}"
      ]
     },
     "execution_count": 26,
     "metadata": {},
     "output_type": "execute_result"
    }
   ],
   "source": [
    "# Cleaning the files which are deleted \n",
    "# manually but happens to be in the dictionary.\n",
    "\n",
    "celebrity_file_names_dict = {}\n",
    "for img_dir in cropped_image_dirs:\n",
    "    celebrity_name = img_dir.split(\"/\")[-1]\n",
    "    file_list = []\n",
    "    for entry in os.scandir(img_dir):\n",
    "        file_list.append(entry.path)\n",
    "    celebrity_file_names_dict[celebrity_name] = file_list\n",
    "    \n",
    "celebrity_file_names_dict"
   ]
  },
  {
   "cell_type": "code",
   "execution_count": 29,
   "id": "bf619467",
   "metadata": {},
   "outputs": [
    {
     "data": {
      "text/plain": [
       "{'Donald Trump': 0,\n",
       " 'Kane Williamson': 1,\n",
       " 'Kobe Bryant': 2,\n",
       " 'Maria Sharapova': 3,\n",
       " 'Narendra Modi': 4,\n",
       " 'Ronaldo': 5,\n",
       " 'Virat Kohli': 6}"
      ]
     },
     "execution_count": 29,
     "metadata": {},
     "output_type": "execute_result"
    }
   ],
   "source": [
    "class_dict = {}\n",
    "count=0\n",
    "for celebrity_name in celebrity_file_names_dict.keys():\n",
    "    class_dict[celebrity_name] = count\n",
    "    count += 1\n",
    "class_dict"
   ]
  },
  {
   "cell_type": "code",
   "execution_count": 34,
   "id": "f3bf7898",
   "metadata": {
    "scrolled": true
   },
   "outputs": [],
   "source": [
    "x, y = [], []\n",
    "for celebrity_name, training_images in celebrity_file_names_dict.items():\n",
    "    for training_image in training_images:\n",
    "        img = cv2.imread(training_image)\n",
    "        scaled_raw_img = cv2.resize(img, (32,32))\n",
    "        img_har = w2d(img, 'db1', 5)\n",
    "        scaled_img_har = cv2.resize(img_har, (32,32))\n",
    "        combined_img = np.vstack((scaled_raw_img.reshape(32*32*3,1),scaled_img_har.reshape(32*32,1)))\n",
    "        x.append(combined_img)\n",
    "        y.append(class_dict[celebrity_name])    "
   ]
  },
  {
   "cell_type": "code",
   "execution_count": 41,
   "id": "c3e47df5",
   "metadata": {},
   "outputs": [
    {
     "data": {
      "text/plain": [
       "array([[ 56.,  88., 107., ..., 235.,  84.,   0.],\n",
       "       [ 75., 119., 171., ..., 189., 127.,  14.],\n",
       "       [178., 178., 178., ...,  75., 150., 120.],\n",
       "       ...,\n",
       "       [116., 136., 221., ...,   1., 253., 252.],\n",
       "       [ 46.,  44.,  46., ...,   3.,   0.,   1.],\n",
       "       [196., 206., 216., ...,  15.,  13.,  14.]])"
      ]
     },
     "execution_count": 41,
     "metadata": {},
     "output_type": "execute_result"
    }
   ],
   "source": [
    "len(x[0])\n",
    "x"
   ]
  },
  {
   "cell_type": "code",
   "execution_count": 38,
   "id": "ccd22e4e",
   "metadata": {},
   "outputs": [
    {
     "data": {
      "text/plain": [
       "(77, 4096)"
      ]
     },
     "execution_count": 38,
     "metadata": {},
     "output_type": "execute_result"
    }
   ],
   "source": [
    "x = np.array(x).reshape(len(x),4096).astype(float)\n",
    "x.shape"
   ]
  },
  {
   "cell_type": "code",
   "execution_count": 42,
   "id": "2f6d643d",
   "metadata": {},
   "outputs": [],
   "source": [
    "from sklearn.svm import SVC\n",
    "from sklearn.preprocessing import StandardScaler\n",
    "from sklearn.model_selection import train_test_split\n",
    "from sklearn.pipeline import Pipeline\n",
    "from sklearn.metrics import classification_report"
   ]
  },
  {
   "cell_type": "code",
   "execution_count": 46,
   "id": "b0af8f76",
   "metadata": {},
   "outputs": [
    {
     "data": {
      "text/plain": [
       "0.65"
      ]
     },
     "execution_count": 46,
     "metadata": {},
     "output_type": "execute_result"
    }
   ],
   "source": [
    "x_train, x_test, y_train, y_test = train_test_split(x, y, random_state=0 ) \n",
    "\n",
    "pipe = Pipeline([('scaler', StandardScaler()), ('svc', SVC(kernel = 'rbf', C = 10))])\n",
    "pipe.fit(x_train, y_train)\n",
    "pipe.score(x_test, y_test)"
   ]
  },
  {
   "cell_type": "code",
   "execution_count": 47,
   "id": "74de9725",
   "metadata": {},
   "outputs": [
    {
     "name": "stdout",
     "output_type": "stream",
     "text": [
      "              precision    recall  f1-score   support\n",
      "\n",
      "           1       1.00      0.50      0.67         2\n",
      "           3       1.00      0.50      0.67         4\n",
      "           4       0.00      0.00      0.00         2\n",
      "           5       0.59      1.00      0.74        10\n",
      "           6       0.00      0.00      0.00         2\n",
      "\n",
      "    accuracy                           0.65        20\n",
      "   macro avg       0.52      0.40      0.41        20\n",
      "weighted avg       0.59      0.65      0.57        20\n",
      "\n"
     ]
    },
    {
     "name": "stderr",
     "output_type": "stream",
     "text": [
      "C:\\Users\\ayush\\AppData\\Local\\Programs\\Python\\Python310\\lib\\site-packages\\sklearn\\metrics\\_classification.py:1334: UndefinedMetricWarning: Precision and F-score are ill-defined and being set to 0.0 in labels with no predicted samples. Use `zero_division` parameter to control this behavior.\n",
      "  _warn_prf(average, modifier, msg_start, len(result))\n",
      "C:\\Users\\ayush\\AppData\\Local\\Programs\\Python\\Python310\\lib\\site-packages\\sklearn\\metrics\\_classification.py:1334: UndefinedMetricWarning: Precision and F-score are ill-defined and being set to 0.0 in labels with no predicted samples. Use `zero_division` parameter to control this behavior.\n",
      "  _warn_prf(average, modifier, msg_start, len(result))\n",
      "C:\\Users\\ayush\\AppData\\Local\\Programs\\Python\\Python310\\lib\\site-packages\\sklearn\\metrics\\_classification.py:1334: UndefinedMetricWarning: Precision and F-score are ill-defined and being set to 0.0 in labels with no predicted samples. Use `zero_division` parameter to control this behavior.\n",
      "  _warn_prf(average, modifier, msg_start, len(result))\n"
     ]
    }
   ],
   "source": [
    "print(classification_report(y_test, pipe.predict(x_test)))"
   ]
  },
  {
   "cell_type": "code",
   "execution_count": 48,
   "id": "c5d4e76e",
   "metadata": {},
   "outputs": [],
   "source": [
    "from sklearn import svm"
   ]
  },
  {
   "cell_type": "code",
   "execution_count": 50,
   "id": "2e0c0bd9",
   "metadata": {},
   "outputs": [],
   "source": [
    "from sklearn.ensemble import RandomForestClassifier\n",
    "from sklearn.linear_model import LogisticRegression\n",
    "from sklearn.pipeline import make_pipeline\n",
    "from sklearn.model_selection import GridSearchCV"
   ]
  },
  {
   "cell_type": "code",
   "execution_count": 51,
   "id": "e278c900",
   "metadata": {},
   "outputs": [],
   "source": [
    "model_params = {\n",
    "    'svm': {\n",
    "        'model': svm.SVC(gamma='auto',probability=True),\n",
    "        'params' : {\n",
    "            'svc__C': [1,10,100,1000],\n",
    "            'svc__kernel': ['rbf','linear']\n",
    "        }  \n",
    "    },\n",
    "    'random_forest': {\n",
    "        'model': RandomForestClassifier(),\n",
    "        'params' : {\n",
    "            'randomforestclassifier__n_estimators': [1,5,10]\n",
    "        }\n",
    "    },\n",
    "    'logistic_regression' : {\n",
    "        'model': LogisticRegression(solver='liblinear',multi_class='auto'),\n",
    "        'params': {\n",
    "            'logisticregression__C': [1,5,10]\n",
    "        }\n",
    "    }\n",
    "}"
   ]
  },
  {
   "cell_type": "code",
   "execution_count": 55,
   "id": "ccda2a3b",
   "metadata": {},
   "outputs": [
    {
     "name": "stderr",
     "output_type": "stream",
     "text": [
      "C:\\Users\\ayush\\AppData\\Local\\Programs\\Python\\Python310\\lib\\site-packages\\sklearn\\model_selection\\_split.py:684: UserWarning: The least populated class in y has only 2 members, which is less than n_splits=5.\n",
      "  warnings.warn(\n",
      "C:\\Users\\ayush\\AppData\\Local\\Programs\\Python\\Python310\\lib\\site-packages\\sklearn\\model_selection\\_split.py:684: UserWarning: The least populated class in y has only 2 members, which is less than n_splits=5.\n",
      "  warnings.warn(\n",
      "C:\\Users\\ayush\\AppData\\Local\\Programs\\Python\\Python310\\lib\\site-packages\\sklearn\\model_selection\\_split.py:684: UserWarning: The least populated class in y has only 2 members, which is less than n_splits=5.\n",
      "  warnings.warn(\n"
     ]
    },
    {
     "data": {
      "text/html": [
       "<div>\n",
       "<style scoped>\n",
       "    .dataframe tbody tr th:only-of-type {\n",
       "        vertical-align: middle;\n",
       "    }\n",
       "\n",
       "    .dataframe tbody tr th {\n",
       "        vertical-align: top;\n",
       "    }\n",
       "\n",
       "    .dataframe thead th {\n",
       "        text-align: right;\n",
       "    }\n",
       "</style>\n",
       "<table border=\"1\" class=\"dataframe\">\n",
       "  <thead>\n",
       "    <tr style=\"text-align: right;\">\n",
       "      <th></th>\n",
       "      <th>model</th>\n",
       "      <th>best_score</th>\n",
       "      <th>best_params</th>\n",
       "    </tr>\n",
       "  </thead>\n",
       "  <tbody>\n",
       "    <tr>\n",
       "      <th>0</th>\n",
       "      <td>svm</td>\n",
       "      <td>0.627273</td>\n",
       "      <td>{'svc__C': 1, 'svc__kernel': 'linear'}</td>\n",
       "    </tr>\n",
       "    <tr>\n",
       "      <th>1</th>\n",
       "      <td>random_forest</td>\n",
       "      <td>0.559091</td>\n",
       "      <td>{'randomforestclassifier__n_estimators': 10}</td>\n",
       "    </tr>\n",
       "    <tr>\n",
       "      <th>2</th>\n",
       "      <td>logistic_regression</td>\n",
       "      <td>0.666667</td>\n",
       "      <td>{'logisticregression__C': 5}</td>\n",
       "    </tr>\n",
       "  </tbody>\n",
       "</table>\n",
       "</div>"
      ],
      "text/plain": [
       "                 model  best_score  \\\n",
       "0                  svm    0.627273   \n",
       "1        random_forest    0.559091   \n",
       "2  logistic_regression    0.666667   \n",
       "\n",
       "                                    best_params  \n",
       "0        {'svc__C': 1, 'svc__kernel': 'linear'}  \n",
       "1  {'randomforestclassifier__n_estimators': 10}  \n",
       "2                  {'logisticregression__C': 5}  "
      ]
     },
     "execution_count": 55,
     "metadata": {},
     "output_type": "execute_result"
    }
   ],
   "source": [
    "scores = []\n",
    "best_estimators = {}\n",
    "import pandas as pd\n",
    "\n",
    "for algo, mp in model_params.items():\n",
    "    pipe = make_pipeline(StandardScaler(), mp['model'])\n",
    "    clf =  GridSearchCV(pipe, mp['params'], cv=5, return_train_score=False)\n",
    "    clf.fit(x_train, y_train)\n",
    "    scores.append({\n",
    "        'model': algo, \n",
    "        'best_score': clf.best_score_,\n",
    "        'best_params': clf.best_params_\n",
    "    })\n",
    "    best_estimators[algo] = clf.best_estimator_\n",
    "\n",
    "df = pd.DataFrame(scores, columns=['model', 'best_score', 'best_params'])\n",
    "df"
   ]
  },
  {
   "cell_type": "code",
   "execution_count": 56,
   "id": "adcebbc3",
   "metadata": {},
   "outputs": [
    {
     "data": {
      "text/plain": [
       "0.75"
      ]
     },
     "execution_count": 56,
     "metadata": {},
     "output_type": "execute_result"
    }
   ],
   "source": [
    "best_estimators['svm'].score(x_test, y_test)"
   ]
  },
  {
   "cell_type": "code",
   "execution_count": 57,
   "id": "769a8b07",
   "metadata": {},
   "outputs": [
    {
     "data": {
      "text/plain": [
       "0.45"
      ]
     },
     "execution_count": 57,
     "metadata": {},
     "output_type": "execute_result"
    }
   ],
   "source": [
    "best_estimators['random_forest'].score(x_test, y_test)"
   ]
  },
  {
   "cell_type": "code",
   "execution_count": 58,
   "id": "3a1db25c",
   "metadata": {},
   "outputs": [
    {
     "data": {
      "text/plain": [
       "0.6"
      ]
     },
     "execution_count": 58,
     "metadata": {},
     "output_type": "execute_result"
    }
   ],
   "source": [
    "best_estimators['logistic_regression'].score(x_test, y_test)"
   ]
  },
  {
   "cell_type": "code",
   "execution_count": 59,
   "id": "eb18d14a",
   "metadata": {},
   "outputs": [],
   "source": [
    "best_clf = best_estimators['svm']"
   ]
  },
  {
   "cell_type": "code",
   "execution_count": 60,
   "id": "2347eb97",
   "metadata": {},
   "outputs": [
    {
     "data": {
      "text/plain": [
       "array([[1, 0, 0, 0, 1, 0],\n",
       "       [0, 0, 0, 0, 0, 0],\n",
       "       [0, 0, 4, 0, 0, 0],\n",
       "       [0, 0, 0, 0, 2, 0],\n",
       "       [0, 0, 1, 0, 9, 0],\n",
       "       [0, 1, 0, 0, 0, 1]], dtype=int64)"
      ]
     },
     "execution_count": 60,
     "metadata": {},
     "output_type": "execute_result"
    }
   ],
   "source": [
    "from sklearn.metrics import confusion_matrix \n",
    "cm = confusion_matrix(y_test, best_clf.predict(x_test))\n",
    "cm"
   ]
  },
  {
   "cell_type": "code",
   "execution_count": 62,
   "id": "868b5358",
   "metadata": {},
   "outputs": [
    {
     "data": {
      "text/plain": [
       "Text(95.72222222222221, 0.5, 'Truth')"
      ]
     },
     "execution_count": 62,
     "metadata": {},
     "output_type": "execute_result"
    },
    {
     "data": {
      "image/png": "[encoded data removed]",
      "text/plain": [
       "<Figure size 1000x700 with 2 Axes>"
      ]
     },
     "metadata": {},
     "output_type": "display_data"
    }
   ],
   "source": [
    "import seaborn as sn\n",
    "plt.figure(figsize = (10, 7))\n",
    "sn.heatmap(cm, annot=True)\n",
    "plt.xlabel('Predicted')\n",
    "plt.ylabel('Truth')"
   ]
  },
  {
   "cell_type": "code",
   "execution_count": 63,
   "id": "694b0ab9",
   "metadata": {},
   "outputs": [
    {
     "data": {
      "text/plain": [
       "{'Donald Trump': 0,\n",
       " 'Kane Williamson': 1,\n",
       " 'Kobe Bryant': 2,\n",
       " 'Maria Sharapova': 3,\n",
       " 'Narendra Modi': 4,\n",
       " 'Ronaldo': 5,\n",
       " 'Virat Kohli': 6}"
      ]
     },
     "execution_count": 63,
     "metadata": {},
     "output_type": "execute_result"
    }
   ],
   "source": [
    "class_dict"
   ]
  },
  {
   "cell_type": "code",
   "execution_count": 65,
   "id": "a081d79a",
   "metadata": {},
   "outputs": [
    {
     "data": {
      "text/plain": [
       "['final_model.pkl']"
      ]
     },
     "execution_count": 65,
     "metadata": {},
     "output_type": "execute_result"
    }
   ],
   "source": [
    "import joblib\n",
    "\n",
    "#saving the model as a pickle file\n",
    "joblib.dump(best_clf, 'final_model.pkl')"
   ]
  },
  {
   "cell_type": "code",
   "execution_count": 66,
   "id": "01dc9a4c",
   "metadata": {},
   "outputs": [
    {
     "ename": "SyntaxError",
     "evalue": "incomplete input (2872666492.py, line 2)",
     "output_type": "error",
     "traceback": [
      "\u001b[1;36m  Cell \u001b[1;32mIn[66], line 2\u001b[1;36m\u001b[0m\n\u001b[1;33m    with open(\"class_dictionary.json\",\"w\") as f:\u001b[0m\n\u001b[1;37m                                                ^\u001b[0m\n\u001b[1;31mSyntaxError\u001b[0m\u001b[1;31m:\u001b[0m incomplete input\n"
     ]
    }
   ],
   "source": [
    "import json \n",
    "with open(\"class_dictionary.json\",\"w\") as f:\n",
    "    f.write(json.dumps(class))"
   ]
  },
  {
   "cell_type": "code",
   "execution_count": null,
   "id": "7be2fd9e",
   "metadata": {},
   "outputs": [],
   "source": []
  }
 ],
 "metadata": {
  "kernelspec": {
   "display_name": "Python 3 (ipykernel)",
   "language": "python",
   "name": "python3"
  },
  "language_info": {
   "codemirror_mode": {
    "name": "ipython",
    "version": 3
   },
   "file_extension": ".py",
   "mimetype": "text/x-python",
   "name": "python",
   "nbconvert_exporter": "python",
   "pygments_lexer": "ipython3",
   "version": "3.10.5"
  }
 },
 "nbformat": 4,
 "nbformat_minor": 5
}
